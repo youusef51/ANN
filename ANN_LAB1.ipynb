{
  "nbformat": 4,
  "nbformat_minor": 0,
  "metadata": {
    "colab": {
      "provenance": [],
      "authorship_tag": "ABX9TyOB6sBovGYhvOpZu9fw0lIA",
      "include_colab_link": true
    },
    "kernelspec": {
      "name": "python3",
      "display_name": "Python 3"
    },
    "language_info": {
      "name": "python"
    }
  },
  "cells": [
    {
      "cell_type": "markdown",
      "metadata": {
        "id": "view-in-github",
        "colab_type": "text"
      },
      "source": [
        "<a href=\"https://colab.research.google.com/github/youusef51/ANN/blob/main/ANN_LAB1.ipynb\" target=\"_parent\"><img src=\"https://colab.research.google.com/assets/colab-badge.svg\" alt=\"Open In Colab\"/></a>"
      ]
    },
    {
      "cell_type": "code",
      "execution_count": null,
      "metadata": {
        "colab": {
          "base_uri": "https://localhost:8080/"
        },
        "id": "cKuRJgIL6z8W",
        "outputId": "3488d539-0788-4cfe-dbd4-9071c9fad613"
      },
      "outputs": [
        {
          "output_type": "stream",
          "name": "stdout",
          "text": [
            "sum= 9\n"
          ]
        }
      ],
      "source": [
        "a=4\n",
        "b=5\n",
        "sum=a+b\n",
        "print(\"sum=\",sum)"
      ]
    },
    {
      "cell_type": "code",
      "source": [
        "a = 10\n",
        "b = 5\n",
        "\n",
        "sum = a+b\n",
        "difference = a-b\n",
        "product = a*b\n",
        "division = a/b\n",
        "\n",
        "# Basic arithmetic operations\n",
        "\n",
        "print(\"Sum: \", sum)\n",
        "print(\"Difference: \", difference)\n",
        "print(\"Product: \", product)\n",
        "print(\"Division: \", division)"
      ],
      "metadata": {
        "id": "9_FmRB-98Vt0",
        "colab": {
          "base_uri": "https://localhost:8080/"
        },
        "outputId": "fa03eeed-db91-4916-9b20-24bf8c5042ee"
      },
      "execution_count": null,
      "outputs": [
        {
          "output_type": "stream",
          "name": "stdout",
          "text": [
            "Sum:  15\n",
            "Difference:  5\n",
            "Product:  50\n",
            "Division:  2.0\n"
          ]
        }
      ]
    },
    {
      "cell_type": "code",
      "source": [
        "print(f\"The sum of the two numbers {a}, {b} is {sum}\")"
      ],
      "metadata": {
        "colab": {
          "base_uri": "https://localhost:8080/"
        },
        "id": "NsHVq5r1Yy0t",
        "outputId": "b934b485-007f-4919-c9e2-13d147c6f6cd"
      },
      "execution_count": null,
      "outputs": [
        {
          "output_type": "stream",
          "name": "stdout",
          "text": [
            "The sum of the two numbers 10, 5 is 15\n"
          ]
        }
      ]
    },
    {
      "cell_type": "code",
      "source": [
        "x = 13/12\n",
        "print(x)\n",
        "y = 13%2\n",
        "print(y)"
      ],
      "metadata": {
        "colab": {
          "base_uri": "https://localhost:8080/"
        },
        "id": "NmWxusEwf_kG",
        "outputId": "6988d04b-2f4a-48cf-e7ef-9bf04b6aac2c"
      },
      "execution_count": null,
      "outputs": [
        {
          "output_type": "stream",
          "name": "stdout",
          "text": [
            "1.0833333333333333\n",
            "1\n"
          ]
        }
      ]
    },
    {
      "cell_type": "code",
      "source": [
        "# Boolean variables and comparisons\n",
        "x = 10\n",
        "y = 5\n",
        "is_greater = x > y\n",
        "is_equal = x == y\n",
        "is_not_equal = x != y\n",
        "\n",
        "print(\"Is x greater than y?\", is_greater)\n",
        "print(\"Is x equal to y?\", is_equal)\n",
        "print(\"Is x not equal to y?\", is_not_equal)"
      ],
      "metadata": {
        "colab": {
          "base_uri": "https://localhost:8080/"
        },
        "id": "MwYON1ikhGfZ",
        "outputId": "1cbaf9b8-dd4c-468d-aaee-d12da47d3f9d"
      },
      "execution_count": null,
      "outputs": [
        {
          "output_type": "stream",
          "name": "stdout",
          "text": [
            "Is x greater than y? True\n",
            "Is x equal to y? False\n",
            "Is x not equal to y? True\n"
          ]
        }
      ]
    },
    {
      "cell_type": "code",
      "source": [
        "# Variable assignment\n",
        "name = \"Alaa\"\n",
        "age = 55\n",
        "is_professor = True\n",
        "print(f\"{name}'s age is {age}. He is a Professor: {is_professor}\")"
      ],
      "metadata": {
        "colab": {
          "base_uri": "https://localhost:8080/"
        },
        "id": "1U2X77PYh2BF",
        "outputId": "44690ad0-fa63-45f1-e026-beea394e2e07"
      },
      "execution_count": null,
      "outputs": [
        {
          "output_type": "stream",
          "name": "stdout",
          "text": [
            "Alaa's age is 55. He is a Professor: True\n"
          ]
        }
      ]
    },
    {
      "cell_type": "code",
      "source": [
        "# Defining and using a function\n",
        "def greet(name):\n",
        "    return \"Hello, \" + name + \"!\"\n",
        "my_name = input(\"Enter your name: \")\n",
        "print(greet(my_name))"
      ],
      "metadata": {
        "colab": {
          "base_uri": "https://localhost:8080/"
        },
        "id": "5yWtbwTYh17S",
        "outputId": "289aa143-0362-4abc-f8fb-d50247f924aa"
      },
      "execution_count": null,
      "outputs": [
        {
          "output_type": "stream",
          "name": "stdout",
          "text": [
            "Enter your name: Alaa\n",
            "Hello, Alaa!\n"
          ]
        }
      ]
    },
    {
      "cell_type": "code",
      "source": [
        "def add_numbers(a, b):\n",
        "    return a + b\n",
        "\n",
        "a = int(input(\"Enter first number: \"))\n",
        "b = int(input(\"Enter second number: \"))\n",
        "addition_value = add_numbers(a, b)\n",
        "print(f'The result of addition for {a} and {b} is {addition_value}')"
      ],
      "metadata": {
        "colab": {
          "base_uri": "https://localhost:8080/"
        },
        "id": "kIMVqPAjh14e",
        "outputId": "1010c25c-70cd-499c-f214-3237ff2bfdbe"
      },
      "execution_count": null,
      "outputs": [
        {
          "output_type": "stream",
          "name": "stdout",
          "text": [
            "Enter first number: 2\n",
            "Enter second number: 3\n",
            "The result of addition for 2 and 3 is 5\n"
          ]
        }
      ]
    },
    {
      "cell_type": "code",
      "source": [
        "def add_numbers(a, b):\n",
        "    return a + b\n",
        "\n",
        "a = eval(input(\"Enter first number: \"))\n",
        "b = eval(input(\"Enter second number: \"))\n",
        "addition_value = add_numbers(a, b)\n",
        "print(f'The result of addition for {a} and {b} is {addition_value}')"
      ],
      "metadata": {
        "colab": {
          "base_uri": "https://localhost:8080/"
        },
        "id": "mmQX-38mh11l",
        "outputId": "7c435a46-3429-40c6-c3e7-67fb19e82c86"
      },
      "execution_count": null,
      "outputs": [
        {
          "output_type": "stream",
          "name": "stdout",
          "text": [
            "Enter first number: 2.3\n",
            "Enter second number: 4.3\n",
            "The result of addition for 2.3 and 4.3 is 6.6\n"
          ]
        }
      ]
    },
    {
      "cell_type": "code",
      "source": [
        "def add_numbers(a, b):\n",
        "    return a + b\n",
        "\n",
        "a = eval(input(\"Enter first number: \"))\n",
        "b = eval(input(\"Enter second number: \"))\n",
        "addition_value = add_numbers(a, b)\n",
        "print(f'The result of addition for {a} and {b} is {addition_value}')"
      ],
      "metadata": {
        "colab": {
          "base_uri": "https://localhost:8080/"
        },
        "id": "Wz04gjnfh1y6",
        "outputId": "88559331-cfca-4360-885c-df6abd9da152"
      },
      "execution_count": null,
      "outputs": [
        {
          "output_type": "stream",
          "name": "stdout",
          "text": [
            "Enter first number: -4.5\n",
            "Enter second number: 10\n",
            "The result of addition for -4.5 and 10 is 5.5\n"
          ]
        }
      ]
    },
    {
      "cell_type": "code",
      "source": [
        "# Working with strings\n",
        "message = \"Hello, World\"\n",
        "length = len(message)\n",
        "uppercase = message.upper()\n",
        "lowercase = message.lower()\n",
        "substring = message[7:12]\n",
        "\n",
        "print(\"Original message:\", message)\n",
        "print(\"The length is:\", length)\n",
        "print(\"Upper case:\", uppercase)\n",
        "print(\"Lower case:\", lowercase)\n",
        "print(\"Part of the message is:\", substring)"
      ],
      "metadata": {
        "colab": {
          "base_uri": "https://localhost:8080/"
        },
        "id": "zdVh6i_Dh0v0",
        "outputId": "7b44b651-12d3-4a16-e355-b0ff66a54968"
      },
      "execution_count": null,
      "outputs": [
        {
          "output_type": "stream",
          "name": "stdout",
          "text": [
            "Original message: Hello, World\n",
            "The length is: 12\n",
            "Upper case: HELLO, WORLD\n",
            "Lower case: hello, world\n",
            "Part of the message is: World\n"
          ]
        }
      ]
    },
    {
      "cell_type": "code",
      "source": [
        "# Basic input example\n",
        "last = input(\"Enter the last name: \")\n",
        "first = input(\"Enter the first name: \")\n",
        "print(f\"{last}, {first}\")"
      ],
      "metadata": {
        "colab": {
          "base_uri": "https://localhost:8080/"
        },
        "id": "r3VXzSWenocg",
        "outputId": "ec9da0ec-5dfb-4377-e30a-1328681e3145"
      },
      "execution_count": null,
      "outputs": [
        {
          "output_type": "stream",
          "name": "stdout",
          "text": [
            "Enter the last name: waled\n",
            "Enter the first name: youusef\n",
            "waled, youusef\n"
          ]
        }
      ]
    },
    {
      "cell_type": "code",
      "source": [
        "# Numeric input example\n",
        "age = int(input(\"Enter your age: \"))\n",
        "print(\"You will be\", age + 1, \"years old next year.\")"
      ],
      "metadata": {
        "colab": {
          "base_uri": "https://localhost:8080/"
        },
        "id": "RIUfoijlp_3S",
        "outputId": "37736ad2-40d1-4741-91df-17a4e9a7e7c4"
      },
      "execution_count": null,
      "outputs": [
        {
          "output_type": "stream",
          "name": "stdout",
          "text": [
            "Enter your age: 20\n",
            "You will be 21 years old next year.\n"
          ]
        }
      ]
    },
    {
      "cell_type": "code",
      "source": [
        "# Calculations with input\n",
        "num1 = float(input(\"Enter a number: \"))\n",
        "num2 = float(input(\"Enter another number: \"))\n",
        "sum_result = num1 + num2\n",
        "print(\"Sum:\", sum_result)"
      ],
      "metadata": {
        "colab": {
          "base_uri": "https://localhost:8080/"
        },
        "id": "58G37IxEnqNb",
        "outputId": "cdbdcd9b-43ec-4a3f-a80e-8c2f7874574e"
      },
      "execution_count": null,
      "outputs": [
        {
          "output_type": "stream",
          "name": "stdout",
          "text": [
            "Enter a number: 72\n",
            "Enter another number: 57\n",
            "Sum: 129.0\n"
          ]
        }
      ]
    },
    {
      "cell_type": "code",
      "source": [
        "# String concatenation with input\n",
        "city = input(\"Enter your city: \")\n",
        "country = input(\"Enter your country: \")\n",
        "location = city + \", \" + country\n",
        "print(\"You are in:\", location)"
      ],
      "metadata": {
        "colab": {
          "base_uri": "https://localhost:8080/"
        },
        "id": "b0kqu2EtnqG1",
        "outputId": "8e6fbfde-e4e9-4241-8b20-1977076b3c22"
      },
      "execution_count": null,
      "outputs": [
        {
          "output_type": "stream",
          "name": "stdout",
          "text": [
            "Enter your city: cairo\n",
            "Enter your country: Egypt\n",
            "You are in: cairo, Egypt\n"
          ]
        }
      ]
    },
    {
      "cell_type": "code",
      "source": [
        "# Multiple inputs\n",
        "name, age = input(\"Enter your name and age separated by space: \").split()\n",
        "print(f\"My name is {name} and my age is {age}.\")"
      ],
      "metadata": {
        "colab": {
          "base_uri": "https://localhost:8080/"
        },
        "id": "W4FEi3Upnp8X",
        "outputId": "1fdd7ae5-36a5-4283-8881-a990ced394f3"
      },
      "execution_count": null,
      "outputs": [
        {
          "output_type": "stream",
          "name": "stdout",
          "text": [
            "Enter your name and age separated by space: youusef 20\n",
            "My name is youusef and my age is 20.\n"
          ]
        }
      ]
    },
    {
      "cell_type": "code",
      "source": [
        "#Data Structure, conditions, and loops:\n",
        "\n",
        ".If_Elif_Else Statements\n",
        ".For Loops\n",
        ".While Loops\n",
        ".Lists\n",
        ".Tuples and Sets\n",
        ".Dictionaries"
      ],
      "metadata": {
        "id": "19xuFt2r9H4w"
      },
      "execution_count": null,
      "outputs": []
    },
    {
      "cell_type": "code",
      "source": [
        "# If-elif-else statements\n",
        "\n",
        "age = int(input(\"Enter your age: \"))\n",
        "if age < 18:\n",
        "    print(\"You are a minor\")\n",
        "elif age == 18:\n",
        "    print(\"You are just an adult now\")\n",
        "else:\n",
        "    print(\"You are already an adult\")\n"
      ],
      "metadata": {
        "colab": {
          "base_uri": "https://localhost:8080/"
        },
        "id": "CYlG-OB39H1c",
        "outputId": "33282926-b498-48da-c187-ea2d7bff5c5b"
      },
      "execution_count": 1,
      "outputs": [
        {
          "output_type": "stream",
          "name": "stdout",
          "text": [
            "Enter your age: 20\n",
            "You are already an adult\n"
          ]
        }
      ]
    },
    {
      "cell_type": "markdown",
      "source": [
        "##Grade Calculator:\n",
        " In this example, the program prompts the user to input their score, and then uses if-elif-else statements to\n",
        "# **- determine their corresponding grade based on a grading scale. If the score is 90 or above, the grade is \"A,\" if it's between 80 and 89, the grade is \"B,\" and so on. If the score falls below 60, the grade is \"F.\"**\n",
        "\n",
        "\n"
      ],
      "metadata": {
        "id": "KvTQxxboA7Yd"
      }
    },
    {
      "cell_type": "code",
      "source": [
        "score = eval(input(\"Enter your score: \"))\n",
        "if score >= 90:\n",
        "    grade = \"A\"\n",
        "elif score >= 80:\n",
        "    grade = \"B\"\n",
        "elif score >= 70:\n",
        "    grade = \"C\"\n",
        "elif score >= 60:\n",
        "    grade = \"D\"\n",
        "else:\n",
        "    grade = \"F\"\n",
        "\n",
        "print(\"Your grade is:\", grade)\n"
      ],
      "metadata": {
        "colab": {
          "base_uri": "https://localhost:8080/"
        },
        "id": "_VDKF1SP9Hyi",
        "outputId": "bc6f0a4e-b1fd-447c-adc9-bfb98ef61666"
      },
      "execution_count": 2,
      "outputs": [
        {
          "output_type": "stream",
          "name": "stdout",
          "text": [
            "Enter your score: 50\n",
            "Your grade is: F\n"
          ]
        }
      ]
    },
    {
      "cell_type": "code",
      "source": [
        "# For loop\n",
        "\n",
        "fruits = [\"apple\", \"banana\", \"cherry\"]\n",
        "for index in fruits:\n",
        "    print(\"I like\", index)\n"
      ],
      "metadata": {
        "colab": {
          "base_uri": "https://localhost:8080/"
        },
        "id": "vHJABlK-9Hiu",
        "outputId": "90b72b0e-a03f-4952-be5f-e5451644a738"
      },
      "execution_count": 4,
      "outputs": [
        {
          "output_type": "stream",
          "name": "stdout",
          "text": [
            "I like apple\n",
            "I like banana\n",
            "I like cherry\n"
          ]
        }
      ]
    },
    {
      "cell_type": "markdown",
      "source": [
        "##In this example, the program defines a list of numbers. The for loop iterates through each number in the list and adds it to the total variable. After the loop completes, the program prints out the sum of all the numbers in the list."
      ],
      "metadata": {
        "id": "2T4_CltkE0gH"
      }
    },
    {
      "cell_type": "code",
      "source": [
        "# Sum of Numbers using a For Loop\n",
        "\n",
        "numbers = [7, 10, 15, 20, 25]\n",
        "total_sum = 0\n",
        "for index in numbers:\n",
        "    total_sum += index\n",
        "print(\"The sum of all elements in the list is:\", total_sum)\n"
      ],
      "metadata": {
        "colab": {
          "base_uri": "https://localhost:8080/"
        },
        "id": "SJts8OQo9HfX",
        "outputId": "479889de-3283-4114-d82d-a2fe9792da7c"
      },
      "execution_count": 5,
      "outputs": [
        {
          "output_type": "stream",
          "name": "stdout",
          "text": [
            "The sum of all elements in the list is: 77\n"
          ]
        }
      ]
    },
    {
      "cell_type": "code",
      "source": [
        "# While loop\n",
        "\n",
        "count = 5\n",
        "while count > 0:\n",
        "    print(\"Count:\", count)\n",
        "    count -= 1\n"
      ],
      "metadata": {
        "colab": {
          "base_uri": "https://localhost:8080/"
        },
        "id": "mo2Jn1t49Hb7",
        "outputId": "c4564259-4b0e-44b4-a7ac-7faaf13675a1"
      },
      "execution_count": 6,
      "outputs": [
        {
          "output_type": "stream",
          "name": "stdout",
          "text": [
            "Count: 5\n",
            "Count: 4\n",
            "Count: 3\n",
            "Count: 2\n",
            "Count: 1\n"
          ]
        }
      ]
    },
    {
      "cell_type": "code",
      "source": [
        " # Menu Example using Input\n",
        "\n",
        "\n",
        "while True:\n",
        "    print(\"Menu:\")\n",
        "    print(\"1. Option 1\")\n",
        "    print(\"2. Option 2\")\n",
        "    print(\"3. Option 3\")\n",
        "    print(\"4. Quit\")\n",
        "\n",
        "    choice = input(\"Enter your choice: \")\n",
        "\n",
        "    if choice == \"1\":\n",
        "        print(\"You selected Option 1.\")\n",
        "    elif choice == \"2\":\n",
        "        print(\"You selected Option 2.\")\n",
        "    elif choice == \"3\":\n",
        "        print(\"You selected Option 3.\")\n",
        "    elif choice == \"4\":\n",
        "        print(\"Goodbye!\")\n",
        "        break\n",
        "    else:\n",
        "        print(\"Invalid choice. Please select again.\")\n"
      ],
      "metadata": {
        "colab": {
          "base_uri": "https://localhost:8080/"
        },
        "id": "JBRL6Y7W9HYo",
        "outputId": "051875e1-2c72-44a7-8c95-a35f60e6930c"
      },
      "execution_count": 7,
      "outputs": [
        {
          "output_type": "stream",
          "name": "stdout",
          "text": [
            "Menu:\n",
            "1. Option 1\n",
            "2. Option 2\n",
            "3. Option 3\n",
            "4. Quit\n",
            "Enter your choice: 1\n",
            "You selected Option 1.\n",
            "Menu:\n",
            "1. Option 1\n",
            "2. Option 2\n",
            "3. Option 3\n",
            "4. Quit\n",
            "Enter your choice: 2\n",
            "You selected Option 2.\n",
            "Menu:\n",
            "1. Option 1\n",
            "2. Option 2\n",
            "3. Option 3\n",
            "4. Quit\n",
            "Enter your choice: \n",
            "Invalid choice. Please select again.\n",
            "Menu:\n",
            "1. Option 1\n",
            "2. Option 2\n",
            "3. Option 3\n",
            "4. Quit\n",
            "Enter your choice: 4\n",
            "Goodbye!\n"
          ]
        }
      ]
    },
    {
      "cell_type": "markdown",
      "source": [
        "##In this example, the program uses a while loop to implement a countdown timer. The countdown variable is initially set to the desired countdown duration (in seconds). The loop runs as long as countdown is greater than O. Inside the loop, it prints the current value of countdown, waits for 1 second using time. sleep(1), and then decreases the value of countdown by 1. Once the countdown reaches 0, the loop exits, and the program indicates that the time is up."
      ],
      "metadata": {
        "id": "K73YpcZwH6k9"
      }
    },
    {
      "cell_type": "code",
      "source": [
        "# Countdown Timer using a While Loop\n",
        "\n",
        "import time\n",
        "\n",
        "countdown = 5\n",
        "print(\"Counter started\")\n",
        "\n",
        "while countdown > 0:\n",
        "    print(countdown)\n",
        "    time.sleep(1)  # wait for one second\n",
        "    countdown -= 1\n",
        "\n",
        "print(\"Time's up\")"
      ],
      "metadata": {
        "colab": {
          "base_uri": "https://localhost:8080/"
        },
        "id": "VWBZIACB9HNq",
        "outputId": "b47ec551-9363-46df-8bb3-fec45d7da5ab"
      },
      "execution_count": 8,
      "outputs": [
        {
          "output_type": "stream",
          "name": "stdout",
          "text": [
            "Counter started\n",
            "5\n",
            "4\n",
            "3\n",
            "2\n",
            "1\n",
            "Time's up\n"
          ]
        }
      ]
    },
    {
      "cell_type": "code",
      "source": [
        "# Lists - ordered and mutable\n",
        "\n",
        "colors = [\"red\", \"blue\", \"yellow\"]\n",
        "print(\"Colors:\", colors)\n",
        "\n",
        "colors.append(\"green\")\n",
        "print(\"Colors:\", colors)"
      ],
      "metadata": {
        "id": "WroSiV0treW_",
        "colab": {
          "base_uri": "https://localhost:8080/"
        },
        "outputId": "d06911ce-15db-40eb-fcb0-852a6f42d80c"
      },
      "execution_count": 9,
      "outputs": [
        {
          "output_type": "stream",
          "name": "stdout",
          "text": [
            "Colors: ['red', 'blue', 'yellow']\n",
            "Colors: ['red', 'blue', 'yellow', 'green']\n"
          ]
        }
      ]
    },
    {
      "cell_type": "markdown",
      "source": [
        "##In this example, the program simulates a simple to-do list application. It uses a list called todo_list to store tasks. The user is presented with options to add tasks, view existing tasks, or quit the application. Depending on the user's choice, the program adds tasks to the list, displays the tasks, or exits the loop."
      ],
      "metadata": {
        "id": "sqLtwSnYJD9_"
      }
    },
    {
      "cell_type": "code",
      "source": [
        "# To-Do List using Lists\n",
        "\n",
        "todo_list = []\n",
        "print(\"Welcome to the to-do list!\")\n",
        "\n",
        "while True:\n",
        "    print(\"\\nOptions:\")\n",
        "    print(\"1. Add task\")\n",
        "    print(\"2. View tasks\")\n",
        "    print(\"3. Quit\")\n",
        "\n",
        "    choice = input(\"Enter your choice: \")\n",
        "\n",
        "    if choice == \"1\":\n",
        "        task = input(\"Enter a new task: \")\n",
        "        todo_list.append(task)\n",
        "        print(\"Task added!\")\n",
        "    elif choice == \"2\":\n",
        "        if not todo_list:\n",
        "            print(\"No tasks in the list.\")\n",
        "        else:\n",
        "            print(\"Tasks:\")\n",
        "            for index, task in enumerate(todo_list, start=1):\n",
        "                print(f\"{index}. {task}\")\n",
        "    elif choice == \"3\":\n",
        "        print(\"Goodbye!\")\n",
        "        break\n",
        "    else:\n",
        "        print(\"Invalid choice. Please select again.\")"
      ],
      "metadata": {
        "id": "rXvT9tT5JAd6",
        "outputId": "fad6f86c-fa57-414e-b87f-ae048f840847",
        "colab": {
          "base_uri": "https://localhost:8080/"
        }
      },
      "execution_count": 10,
      "outputs": [
        {
          "output_type": "stream",
          "name": "stdout",
          "text": [
            "Welcome to the to-do list!\n",
            "\n",
            "Options:\n",
            "1. Add task\n",
            "2. View tasks\n",
            "3. Quit\n",
            "Enter your choice: study\n",
            "Invalid choice. Please select again.\n",
            "\n",
            "Options:\n",
            "1. Add task\n",
            "2. View tasks\n",
            "3. Quit\n",
            "Enter your choice: play\n",
            "Invalid choice. Please select again.\n",
            "\n",
            "Options:\n",
            "1. Add task\n",
            "2. View tasks\n",
            "3. Quit\n",
            "Enter your choice: 2\n",
            "No tasks in the list.\n",
            "\n",
            "Options:\n",
            "1. Add task\n",
            "2. View tasks\n",
            "3. Quit\n",
            "Enter your choice: 3\n",
            "Goodbye!\n"
          ]
        }
      ]
    },
    {
      "cell_type": "code",
      "source": [
        "# Tuples - ordered and immutable\n",
        "\n",
        "person_info = (\"Alice\", 30)\n",
        "print(\"Person's Information:\")\n",
        "print(\"Name:\", person_info[0])\n",
        "print(\"Age:\", person_info[1])"
      ],
      "metadata": {
        "id": "KbnmJtuiJ3EH",
        "outputId": "0d460829-6d48-47f7-957e-6c8129306f84",
        "colab": {
          "base_uri": "https://localhost:8080/"
        }
      },
      "execution_count": 12,
      "outputs": [
        {
          "output_type": "stream",
          "name": "stdout",
          "text": [
            "Person's Information:\n",
            "Name: Alice\n",
            "Age: 30\n"
          ]
        }
      ]
    },
    {
      "cell_type": "markdown",
      "source": [
        "##In this example, the program uses a tuple person_info to store two pieces of information: the person's name and age. Tuples are defined using parentheses and can hold multiple values. Although tuples are ordered like lists, they are immutable, meaning their elements cannot be changed after creation."
      ],
      "metadata": {
        "id": "CgdeLVY8LHUD"
      }
    },
    {
      "cell_type": "code",
      "source": [
        "# Storing Person Information using a Tuple\n",
        "\n",
        "person_info = (\"Alice\", 30)\n",
        "print(\"Person's Information:\")\n",
        "print(\"Name:\", person_info[0])"
      ],
      "metadata": {
        "id": "eA6oktXLKegh",
        "outputId": "a66bb1e8-98c9-44e9-f8eb-77aaa48ab696",
        "colab": {
          "base_uri": "https://localhost:8080/"
        }
      },
      "execution_count": 14,
      "outputs": [
        {
          "output_type": "stream",
          "name": "stdout",
          "text": [
            "Person's Information:\n",
            "Name: Alice\n"
          ]
        }
      ]
    },
    {
      "cell_type": "code",
      "source": [
        "# Dictionaries - key-value pairs\n",
        "\n",
        "student = {\n",
        "    \"name\": \"Alice\",\n",
        "    \"age\": 20,\n",
        "    \"major\": \"Computer Science\",\n",
        "    \"grade\": \"A\"\n",
        "}\n",
        "\n",
        "name = student[\"name\"]\n",
        "print(\"Student:\", student)\n",
        "print(\"Student's name:\", name)"
      ],
      "metadata": {
        "id": "59oOIrdaLN4p",
        "outputId": "4980563b-39f6-4c85-ba41-a706c4b4cb43",
        "colab": {
          "base_uri": "https://localhost:8080/"
        }
      },
      "execution_count": 15,
      "outputs": [
        {
          "output_type": "stream",
          "name": "stdout",
          "text": [
            "Student: {'name': 'Alice', 'age': 20, 'major': 'Computer Science', 'grade': 'A'}\n",
            "Student's name: Alice\n"
          ]
        }
      ]
    },
    {
      "cell_type": "markdown",
      "source": [
        "##In this example, the program uses dictionaries to store information about different students. Each student is represented as a dictionary with keys such as \"name\", \"age\", \"major\", and \"grade\". These keys map to the corresponding values for each student."
      ],
      "metadata": {
        "id": "EYXajZ6pNbIo"
      }
    },
    {
      "cell_type": "code",
      "source": [
        "# Storing Student Information using a Dictionary\n",
        "student1 = {\n",
        "    \"name\": \"Alice\",\n",
        "    \"age\": 20,\n",
        "    \"major\": \"Computer Science\",\n",
        "    \"grade\": \"A\"\n",
        "}\n",
        "\n",
        "student2 = {\n",
        "    \"name\": \"Bob\",\n",
        "    \"age\": 22,\n",
        "    \"major\": \"Engineering\",\n",
        "    \"grade\": \"B\"\n",
        "}\n",
        "\n",
        "# Store students in a list\n",
        "students = [student1, student2]\n",
        "\n",
        "# Access and print information\n",
        "for student in students:\n",
        "    print(\"Student Information:\")\n",
        "    print(\"Name:\", student[\"name\"])\n",
        "    print(\"Age:\", student[\"age\"])\n",
        "    print(\"Major:\", student[\"major\"])\n",
        "    print(\"Grade:\", student[\"grade\"])\n",
        "    print()  # Print an empty line for better readability"
      ],
      "metadata": {
        "id": "QDe2uy7QLNvc",
        "outputId": "9b9c4d43-d961-4d0c-ea4f-e6a11f2f68e8",
        "colab": {
          "base_uri": "https://localhost:8080/"
        }
      },
      "execution_count": 16,
      "outputs": [
        {
          "output_type": "stream",
          "name": "stdout",
          "text": [
            "Student Information:\n",
            "Name: Alice\n",
            "Age: 20\n",
            "Major: Computer Science\n",
            "Grade: A\n",
            "\n",
            "Student Information:\n",
            "Name: Bob\n",
            "Age: 22\n",
            "Major: Engineering\n",
            "Grade: B\n",
            "\n"
          ]
        }
      ]
    }
  ]
}