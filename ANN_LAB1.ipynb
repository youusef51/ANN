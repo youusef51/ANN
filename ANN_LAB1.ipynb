{
  "nbformat": 4,
  "nbformat_minor": 0,
  "metadata": {
    "colab": {
      "provenance": [],
      "authorship_tag": "ABX9TyPy+bBw+jLgpVJL+iCBPP5d",
      "include_colab_link": true
    },
    "kernelspec": {
      "name": "python3",
      "display_name": "Python 3"
    },
    "language_info": {
      "name": "python"
    }
  },
  "cells": [
    {
      "cell_type": "markdown",
      "metadata": {
        "id": "view-in-github",
        "colab_type": "text"
      },
      "source": [
        "<a href=\"https://colab.research.google.com/github/youusef51/ANN/blob/main/ANN_LAB1.ipynb\" target=\"_parent\"><img src=\"https://colab.research.google.com/assets/colab-badge.svg\" alt=\"Open In Colab\"/></a>"
      ]
    },
    {
      "cell_type": "code",
      "execution_count": null,
      "metadata": {
        "colab": {
          "base_uri": "https://localhost:8080/"
        },
        "id": "cKuRJgIL6z8W",
        "outputId": "3488d539-0788-4cfe-dbd4-9071c9fad613"
      },
      "outputs": [
        {
          "output_type": "stream",
          "name": "stdout",
          "text": [
            "sum= 9\n"
          ]
        }
      ],
      "source": [
        "a=4\n",
        "b=5\n",
        "sum=a+b\n",
        "print(\"sum=\",sum)"
      ]
    },
    {
      "cell_type": "code",
      "source": [
        "a = 10\n",
        "b = 5\n",
        "\n",
        "sum = a+b\n",
        "difference = a-b\n",
        "product = a*b\n",
        "division = a/b\n",
        "\n",
        "# Basic arithmetic operations\n",
        "\n",
        "print(\"Sum: \", sum)\n",
        "print(\"Difference: \", difference)\n",
        "print(\"Product: \", product)\n",
        "print(\"Division: \", division)"
      ],
      "metadata": {
        "id": "9_FmRB-98Vt0",
        "colab": {
          "base_uri": "https://localhost:8080/"
        },
        "outputId": "fa03eeed-db91-4916-9b20-24bf8c5042ee"
      },
      "execution_count": 1,
      "outputs": [
        {
          "output_type": "stream",
          "name": "stdout",
          "text": [
            "Sum:  15\n",
            "Difference:  5\n",
            "Product:  50\n",
            "Division:  2.0\n"
          ]
        }
      ]
    },
    {
      "cell_type": "code",
      "source": [
        "print(f\"The sum of the two numbers {a}, {b} is {sum}\")"
      ],
      "metadata": {
        "colab": {
          "base_uri": "https://localhost:8080/"
        },
        "id": "NsHVq5r1Yy0t",
        "outputId": "b934b485-007f-4919-c9e2-13d147c6f6cd"
      },
      "execution_count": 4,
      "outputs": [
        {
          "output_type": "stream",
          "name": "stdout",
          "text": [
            "The sum of the two numbers 10, 5 is 15\n"
          ]
        }
      ]
    },
    {
      "cell_type": "code",
      "source": [
        "x = 13/12\n",
        "print(x)\n",
        "y = 13%2\n",
        "print(y)"
      ],
      "metadata": {
        "colab": {
          "base_uri": "https://localhost:8080/"
        },
        "id": "NmWxusEwf_kG",
        "outputId": "6988d04b-2f4a-48cf-e7ef-9bf04b6aac2c"
      },
      "execution_count": 5,
      "outputs": [
        {
          "output_type": "stream",
          "name": "stdout",
          "text": [
            "1.0833333333333333\n",
            "1\n"
          ]
        }
      ]
    },
    {
      "cell_type": "code",
      "source": [
        "# Boolean variables and comparisons\n",
        "x = 10\n",
        "y = 5\n",
        "is_greater = x > y\n",
        "is_equal = x == y\n",
        "is_not_equal = x != y\n",
        "\n",
        "print(\"Is x greater than y?\", is_greater)\n",
        "print(\"Is x equal to y?\", is_equal)\n",
        "print(\"Is x not equal to y?\", is_not_equal)"
      ],
      "metadata": {
        "colab": {
          "base_uri": "https://localhost:8080/"
        },
        "id": "MwYON1ikhGfZ",
        "outputId": "1cbaf9b8-dd4c-468d-aaee-d12da47d3f9d"
      },
      "execution_count": 7,
      "outputs": [
        {
          "output_type": "stream",
          "name": "stdout",
          "text": [
            "Is x greater than y? True\n",
            "Is x equal to y? False\n",
            "Is x not equal to y? True\n"
          ]
        }
      ]
    },
    {
      "cell_type": "code",
      "source": [
        "# Variable assignment\n",
        "name = \"Alaa\"\n",
        "age = 55\n",
        "is_professor = True\n",
        "print(f\"{name}'s age is {age}. He is a Professor: {is_professor}\")"
      ],
      "metadata": {
        "colab": {
          "base_uri": "https://localhost:8080/"
        },
        "id": "1U2X77PYh2BF",
        "outputId": "44690ad0-fa63-45f1-e026-beea394e2e07"
      },
      "execution_count": 9,
      "outputs": [
        {
          "output_type": "stream",
          "name": "stdout",
          "text": [
            "Alaa's age is 55. He is a Professor: True\n"
          ]
        }
      ]
    },
    {
      "cell_type": "code",
      "source": [
        "# Defining and using a function\n",
        "def greet(name):\n",
        "    return \"Hello, \" + name + \"!\"\n",
        "my_name = input(\"Enter your name: \")\n",
        "print(greet(my_name))"
      ],
      "metadata": {
        "colab": {
          "base_uri": "https://localhost:8080/"
        },
        "id": "5yWtbwTYh17S",
        "outputId": "289aa143-0362-4abc-f8fb-d50247f924aa"
      },
      "execution_count": 11,
      "outputs": [
        {
          "output_type": "stream",
          "name": "stdout",
          "text": [
            "Enter your name: Alaa\n",
            "Hello, Alaa!\n"
          ]
        }
      ]
    },
    {
      "cell_type": "code",
      "source": [
        "def add_numbers(a, b):\n",
        "    return a + b\n",
        "\n",
        "a = int(input(\"Enter first number: \"))\n",
        "b = int(input(\"Enter second number: \"))\n",
        "addition_value = add_numbers(a, b)\n",
        "print(f'The result of addition for {a} and {b} is {addition_value}')"
      ],
      "metadata": {
        "colab": {
          "base_uri": "https://localhost:8080/"
        },
        "id": "kIMVqPAjh14e",
        "outputId": "1010c25c-70cd-499c-f214-3237ff2bfdbe"
      },
      "execution_count": 12,
      "outputs": [
        {
          "output_type": "stream",
          "name": "stdout",
          "text": [
            "Enter first number: 2\n",
            "Enter second number: 3\n",
            "The result of addition for 2 and 3 is 5\n"
          ]
        }
      ]
    },
    {
      "cell_type": "code",
      "source": [
        "def add_numbers(a, b):\n",
        "    return a + b\n",
        "\n",
        "a = eval(input(\"Enter first number: \"))\n",
        "b = eval(input(\"Enter second number: \"))\n",
        "addition_value = add_numbers(a, b)\n",
        "print(f'The result of addition for {a} and {b} is {addition_value}')"
      ],
      "metadata": {
        "colab": {
          "base_uri": "https://localhost:8080/"
        },
        "id": "mmQX-38mh11l",
        "outputId": "7c435a46-3429-40c6-c3e7-67fb19e82c86"
      },
      "execution_count": 14,
      "outputs": [
        {
          "output_type": "stream",
          "name": "stdout",
          "text": [
            "Enter first number: 2.3\n",
            "Enter second number: 4.3\n",
            "The result of addition for 2.3 and 4.3 is 6.6\n"
          ]
        }
      ]
    },
    {
      "cell_type": "code",
      "source": [
        "def add_numbers(a, b):\n",
        "    return a + b\n",
        "\n",
        "a = eval(input(\"Enter first number: \"))\n",
        "b = eval(input(\"Enter second number: \"))\n",
        "addition_value = add_numbers(a, b)\n",
        "print(f'The result of addition for {a} and {b} is {addition_value}')"
      ],
      "metadata": {
        "colab": {
          "base_uri": "https://localhost:8080/"
        },
        "id": "Wz04gjnfh1y6",
        "outputId": "88559331-cfca-4360-885c-df6abd9da152"
      },
      "execution_count": 15,
      "outputs": [
        {
          "output_type": "stream",
          "name": "stdout",
          "text": [
            "Enter first number: -4.5\n",
            "Enter second number: 10\n",
            "The result of addition for -4.5 and 10 is 5.5\n"
          ]
        }
      ]
    },
    {
      "cell_type": "code",
      "source": [
        "# Working with strings\n",
        "message = \"Hello, World\"\n",
        "length = len(message)\n",
        "uppercase = message.upper()\n",
        "lowercase = message.lower()\n",
        "substring = message[7:12]\n",
        "\n",
        "print(\"Original message:\", message)\n",
        "print(\"The length is:\", length)\n",
        "print(\"Upper case:\", uppercase)\n",
        "print(\"Lower case:\", lowercase)\n",
        "print(\"Part of the message is:\", substring)"
      ],
      "metadata": {
        "colab": {
          "base_uri": "https://localhost:8080/"
        },
        "id": "zdVh6i_Dh0v0",
        "outputId": "7b44b651-12d3-4a16-e355-b0ff66a54968"
      },
      "execution_count": 16,
      "outputs": [
        {
          "output_type": "stream",
          "name": "stdout",
          "text": [
            "Original message: Hello, World\n",
            "The length is: 12\n",
            "Upper case: HELLO, WORLD\n",
            "Lower case: hello, world\n",
            "Part of the message is: World\n"
          ]
        }
      ]
    },
    {
      "cell_type": "code",
      "source": [
        "# Basic input example\n",
        "last = input(\"Enter the last name: \")\n",
        "first = input(\"Enter the first name: \")\n",
        "print(f\"{last}, {first}\")"
      ],
      "metadata": {
        "colab": {
          "base_uri": "https://localhost:8080/"
        },
        "id": "r3VXzSWenocg",
        "outputId": "ec9da0ec-5dfb-4377-e30a-1328681e3145"
      },
      "execution_count": 19,
      "outputs": [
        {
          "output_type": "stream",
          "name": "stdout",
          "text": [
            "Enter the last name: waled\n",
            "Enter the first name: youusef\n",
            "waled, youusef\n"
          ]
        }
      ]
    },
    {
      "cell_type": "code",
      "source": [
        "# Numeric input example\n",
        "age = int(input(\"Enter your age: \"))\n",
        "print(\"You will be\", age + 1, \"years old next year.\")"
      ],
      "metadata": {
        "colab": {
          "base_uri": "https://localhost:8080/"
        },
        "id": "RIUfoijlp_3S",
        "outputId": "37736ad2-40d1-4741-91df-17a4e9a7e7c4"
      },
      "execution_count": 22,
      "outputs": [
        {
          "output_type": "stream",
          "name": "stdout",
          "text": [
            "Enter your age: 20\n",
            "You will be 21 years old next year.\n"
          ]
        }
      ]
    },
    {
      "cell_type": "code",
      "source": [
        "# Calculations with input\n",
        "num1 = float(input(\"Enter a number: \"))\n",
        "num2 = float(input(\"Enter another number: \"))\n",
        "sum_result = num1 + num2\n",
        "print(\"Sum:\", sum_result)"
      ],
      "metadata": {
        "colab": {
          "base_uri": "https://localhost:8080/"
        },
        "id": "58G37IxEnqNb",
        "outputId": "cdbdcd9b-43ec-4a3f-a80e-8c2f7874574e"
      },
      "execution_count": 20,
      "outputs": [
        {
          "output_type": "stream",
          "name": "stdout",
          "text": [
            "Enter a number: 72\n",
            "Enter another number: 57\n",
            "Sum: 129.0\n"
          ]
        }
      ]
    },
    {
      "cell_type": "code",
      "source": [
        "# String concatenation with input\n",
        "city = input(\"Enter your city: \")\n",
        "country = input(\"Enter your country: \")\n",
        "location = city + \", \" + country\n",
        "print(\"You are in:\", location)"
      ],
      "metadata": {
        "colab": {
          "base_uri": "https://localhost:8080/"
        },
        "id": "b0kqu2EtnqG1",
        "outputId": "8e6fbfde-e4e9-4241-8b20-1977076b3c22"
      },
      "execution_count": 23,
      "outputs": [
        {
          "output_type": "stream",
          "name": "stdout",
          "text": [
            "Enter your city: cairo\n",
            "Enter your country: Egypt\n",
            "You are in: cairo, Egypt\n"
          ]
        }
      ]
    },
    {
      "cell_type": "code",
      "source": [
        "# Multiple inputs\n",
        "name, age = input(\"Enter your name and age separated by space: \").split()\n",
        "print(f\"My name is {name} and my age is {age}.\")"
      ],
      "metadata": {
        "colab": {
          "base_uri": "https://localhost:8080/"
        },
        "id": "W4FEi3Upnp8X",
        "outputId": "1fdd7ae5-36a5-4283-8881-a990ced394f3"
      },
      "execution_count": 24,
      "outputs": [
        {
          "output_type": "stream",
          "name": "stdout",
          "text": [
            "Enter your name and age separated by space: youusef 20\n",
            "My name is youusef and my age is 20.\n"
          ]
        }
      ]
    },
    {
      "cell_type": "code",
      "source": [],
      "metadata": {
        "id": "WroSiV0treW_"
      },
      "execution_count": null,
      "outputs": []
    }
  ]
}